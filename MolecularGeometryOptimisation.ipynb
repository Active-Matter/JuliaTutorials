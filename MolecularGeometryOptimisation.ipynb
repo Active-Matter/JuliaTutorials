{
 "metadata": {
  "language": "Julia",
  "name": "",
  "signature": "sha256:c65dc44ecf32a4dd128319119e7fd00f8fdb928124af84b6c5747cec527159df"
 },
 "nbformat": 3,
 "nbformat_minor": 0,
 "worksheets": [
  {
   "cells": [
    {
     "cell_type": "markdown",
     "metadata": {},
     "source": [
      "## 4 A Thomas-Fermi Solver\n",
      "\n",
      "The final project in this notebook is a solver for the [Thomas-Fermi-Weizs\u00e4cker](http://en.wikipedia.org/wiki/Thomas\u2013Fermi_model) model, which is a simple electronic structure model. The aim is to minimise the energy\n",
      "$$\n",
      "  F[u] = \\int_\\Omega \\Big( \\frac{1}{2}|\\nabla u|^2 + C_1 u^{10/3} \n",
      "          + C_2 (u^2-m) (-\\Delta)^{-1} (u^2-m) \\Big) dx.\n",
      "$$\n",
      "subject to the charge neutrality constraint $\\int_\\Omega (u^2 - m) dx = 0$. Here, $\\rho = u^2$ denotes the electron density while $m$ denotes the (given) charge density of the nuclei, and is of the form $m(x) = \\sum_{j} \\mu(x-x_j)$, where $\\mu$ is a smooth nucleus centered at the origin and $x_j$ the position of the $j$th nucleus.\n",
      "\n",
      "***WORK IN PROGRESS***"
     ]
    },
    {
     "cell_type": "code",
     "collapsed": false,
     "input": [],
     "language": "python",
     "metadata": {},
     "outputs": []
    }
   ],
   "metadata": {}
  }
 ]
}