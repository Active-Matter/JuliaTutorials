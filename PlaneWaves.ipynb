{
 "cells": [
  {
   "cell_type": "code",
   "execution_count": 2,
   "metadata": {
    "collapsed": false
   },
   "outputs": [],
   "source": [
    "using PyPlot"
   ]
  },
  {
   "cell_type": "markdown",
   "metadata": {},
   "source": [
    "# Fourier Spectral Methods (aka Planewaves)\n",
    "\n",
    "by [Christoph Ortner](http://homepages.warwick.ac.uk/staff/C.Ortner/)  \n",
    "last update 26 June 2014  \n",
    "tested ok on Julia 0.3.10\n",
    "tested ok on Julia 0.5-dev (but animations don't work anymore)\n",
    "\n",
    "All examples in this notebook implement a Fourier spectral method for solving a (partial) differential equation with periodic boundary conditions.\n",
    " \n",
    "**Acknowledgements:**\n",
    "\n",
    "* Codes are built from a `Matlab` example by Simon Bignold (PhD student at Warwick U.)"
   ]
  },
  {
   "cell_type": "markdown",
   "metadata": {},
   "source": [
    "## 1. A Few Quick 1D Examples"
   ]
  },
  {
   "cell_type": "markdown",
   "metadata": {},
   "source": [
    "### 1.1 BVP Solver\n",
    "We start out by solving a simple linear bvp \n",
    "$$\n",
    "- u'' + u = f(x), \\qquad x \\in (-\\pi, \\pi)\n",
    "$$\n",
    "Expanding $u(x) = \\sum_{k \\in \\mathbb{Z}} \\hat{u}(k) e^{i k x}$, the equation in reciprocal space becomes diagonal, \n",
    "$$\n",
    "   (|k|^2+1) \\hat{u}(k) = \\hat{f}(k), \\qquad k \\in \\mathbb{Z}.\n",
    "$$\n",
    "Projection to a finite set of $k$ values yields the following short code snippet. "
   ]
  },
  {
   "cell_type": "code",
   "execution_count": 3,
   "metadata": {
    "collapsed": false
   },
   "outputs": [
    {
     "data": {
      "image/png": "[encoded data removed]",
      "text/plain": [
       "PyPlot.Figure(PyObject <matplotlib.figure.Figure object at 0x323b35410>)"
      ]
     },
     "metadata": {},
     "output_type": "display_data"
    }
   ],
   "source": [
    "# grid parameters\n",
    "N = 2^6\n",
    "h = 2*pi / N\n",
    "# real-space grid\n",
    "x = collect(linspace(-pi+h, pi, N))\n",
    "# reciprocal space grid\n",
    "k = [0:N/2; -N/2+1:-1]\n",
    "# right-hand side\n",
    "f = cos(x) + 0.2 * sin(3*x)\n",
    "# multiplier for derivative operator\n",
    "D̂ = - im * k\n",
    "# solve the BVP in Fourier space\n",
    "û = fft(f) ./ (1-D̂.^2)\n",
    "# transform back\n",
    "u = real(ifft(û))\n",
    "u_exact = cos(x) / (1+1^2) + 0.2 * sin(3*x) / (1+3^2)\n",
    "\n",
    "# output solution\n",
    "subplot(2,2,1)\n",
    "plot(x, u, \"b-\", x, u_exact, \"r.\")\n",
    "title(string(\"error = \", norm(u-u_exact, Inf)));"
   ]
  },
  {
   "cell_type": "markdown",
   "metadata": {},
   "source": [
    "### 1.2 Allen-Cahn Equation\n",
    "\n",
    "In the next example, we implement a spectral method for the Allen--Cahn equation,\n",
    "$$ u_t = \\epsilon u_{xx} - \\frac{1}{\\epsilon} (u^3 - u), $$\n",
    "again supplemented with PBCs and a random initial condition. We use a semi-implicit Euler method in time, which yields\n",
    "$$\n",
    "  u^{[n+1]} - \\tau \\epsilon u_{xx}^{[n+1]} = u^{[n]} - \\frac{\\tau}{\\epsilon} \\big( (u^{[n]})^3 - u^{[n]} \\big).\n",
    "$$\n",
    "In reciprocal space, the time-step equation becomes again diagonal:\n",
    "$$\n",
    "  (1 + \\tau \\epsilon |k|^2) \\hat{u}^{(n+1)}(k) = \\hat{u}(k) - \\frac{\\tau}{\\epsilon} \\widehat{((u^{[n]})^3 - u^{[n]}})(k).\n",
    "$$"
   ]
  },
  {
   "cell_type": "code",
   "execution_count": 5,
   "metadata": {
    "collapsed": false
   },
   "outputs": [
    {
     "name": "stderr",
     "output_type": "stream",
     "text": [
      "2016-07-02 07:32:32.065 julia[9656:1094815] setCanCycle: is deprecated.  Please use setCollectionBehavior instead\n",
      "2016-07-02 07:32:32.072 julia[9656:1094815] setCanCycle: is deprecated.  Please use setCollectionBehavior instead\n"
     ]
    }
   ],
   "source": [
    "# grid parameters\n",
    "N = 2^7\n",
    "h = 2*pi / N\n",
    "tau = h/4\n",
    "epsn = 2/10\n",
    "# real-space grid\n",
    "x = linspace(-pi+h, pi, N)\n",
    "# reciprocal space grid\n",
    "k = [0:N/2; -N/2+1:-1]\n",
    "\n",
    "# construct initial condition\n",
    "u = 2*(rand(N) - 0.5)\n",
    "\n",
    "# Plotting setup\n",
    "pygui(true); PyPlot.ion(); PyPlot.hold(false)\n",
    "\n",
    "# multiplier\n",
    "Â = 1 + tau * epsn * k.^2\n",
    "\n",
    "# time-stepping\n",
    "for n = 1:ceil(2/tau)\n",
    "    u = real(ifft( fft(u - tau/epsn * (u.^3-u)) ./ Â )) \n",
    "    # plot\n",
    "    plot(x, u)\n",
    "    axis([-pi, pi, -1.1, 1.1])\n",
    "    title(string(\" t = \", round(n * tau,2)))\n",
    "    PyPlot.draw()\n",
    "end\n"
   ]
  },
  {
   "cell_type": "markdown",
   "metadata": {},
   "source": [
    "## 2. A 2D Cahn-Hilliard Solver\n",
    "\n",
    "The Cahn--Hilliard equation reads\n",
    "$$ (-\\Delta)^{-1} u_t = \\epsilon \\Delta u - \\frac{1}{\\epsilon} (u^3 - u) $$\n",
    "The difficulty here is that a trivial semi-implicit time discretisation\n",
    "$$\n",
    "   u^{(n+1)} + \\epsilon \\tau \\Delta^2 u^{(n+1)} = u^{(n)} + \\frac{\\tau}{\\epsilon} \\Delta (u^3 - u)\n",
    "$$\n",
    "has time-step restriction $O( \\epsilon h^2 )$. We can stabilise with a (local) convex-concave splitting such as\n",
    "$$\n",
    "   (1 + \\epsilon \\tau \\Delta^2 - C \\tau \\Delta) u^{(n+1)} \n",
    "    = (1-C \\tau \\Delta) u^{(n)} + \\frac{\\tau}{\\epsilon} \\Delta (u^3 - u)^{(n)}.\n",
    "$$\n",
    "Since $(u^3-u)' = 3 u^2 - 1 \\in [-1, 2]$ so we need $C \\geq 2/\\epsilon$ to get $\\tau$-independent stability. We then choose the time-step $\\tau = h \\epsilon$ to make up for the loss of accuracy.\n",
    "\n",
    "In reciprocal space, the time step equation becomes\n",
    "$$\n",
    "  (1+\\epsilon \\tau |k|^4 + C \\tau |k|^2) \\hat{u}^{(n+1)} = \\big(1+C\\tau |k|^2 + \\frac{\\tau}{\\epsilon} |k|^2\\big) \\hat{u}^{(n)} - \\frac{\\tau}{\\epsilon} |k|^2 (\\widehat{u^3})^{(n)}\n",
    "$$\n",
    "\n",
    "(For something more serious we should probably implement a decent adaptive time-stepping strategy.)"
   ]
  },
  {
   "cell_type": "code",
   "execution_count": 11,
   "metadata": {
    "collapsed": false
   },
   "outputs": [
    {
     "name": "stderr",
     "output_type": "stream",
     "text": [
      "2016-07-02 07:38:24.767 julia[9656:1094815] setCanCycle: is deprecated.  Please use setCollectionBehavior instead\n",
      "2016-07-02 07:38:24.775 julia[9656:1094815] setCanCycle: is deprecated.  Please use setCollectionBehavior instead\n"
     ]
    }
   ],
   "source": [
    "# grid parameters: 2π x 2π\n",
    "N = 2^7\n",
    "h = 2*π/N\n",
    "epsn = h * 3\n",
    "C = 2/epsn\n",
    "tau = epsn * h\n",
    "Tfinal = 4\n",
    "\n",
    "# real-space and reciprocal-space grids\n",
    "# the real-space grid is just used for plotting!\n",
    "X = collect(linspace(h, 2*pi, N)) .* ones(1,N)\n",
    "k = collect([0:N/2; -N/2+1:-1])\n",
    "# -Δ multiplier\n",
    "Â = kron(k.^2, ones(1,N)) + kron(ones(N), k'.^2)\n",
    "\n",
    "# Plotting setup\n",
    "using PyPlot\n",
    "pygui(true); PyPlot.ion(); PyPlot.hold(false)\n",
    "\n",
    "# initial condition\n",
    "u = 2*(rand(N, N)-0.5)\n",
    "\n",
    "# time-stepping loop\n",
    "T_plot = 0.01; t_plot = 0.0\n",
    "for n = 1:ceil(Tfinal / tau)\n",
    "    # STEP: in this version we just use vectorised Matlab-style, \n",
    "    #       but see the next section on how we could speed this\n",
    "    #       up if we wanted to\n",
    "    u = real(ifft( ( (1+C*tau*Â).*fft(u) - tau/epsn * (Â .* fft(u.^3-u))) ./ (1+(epsn*tau)*Â.^2+C*tau*Â) ))\n",
    "    \n",
    "    # PLOT:\n",
    "    t_plot += tau\n",
    "    if t_plot >= T_plot\n",
    "        contourf(X, X', u, rstride=4, cstride=4, cmap=ColorMap(\"rainbow\"), \n",
    "                linewidth=0.0, levels = linspace(-1.1,1.1,15))\n",
    "        axis([0, 2*pi, 0, 2*pi]);\n",
    "        title(string(\" t = \", round(n * tau,2)))\n",
    "        PyPlot.draw()\n",
    "        t_plot = 0.0\n",
    "    end\n",
    "end\n"
   ]
  },
  {
   "cell_type": "markdown",
   "metadata": {},
   "source": [
    "-------------\n",
    "### Everything below this cell has not been tested on v0.5!\n",
    "-------------"
   ]
  },
  {
   "cell_type": "markdown",
   "metadata": {},
   "source": [
    "## 3 Some Performance optimisations\n",
    "\n",
    "This is a good opportunity to play around with some profiling and optimisation. Let us start by wrapping the CH_stepper into a function and `@time` it."
   ]
  },
  {
   "cell_type": "code",
   "execution_count": 5,
   "metadata": {
    "collapsed": false
   },
   "outputs": [
    {
     "name": "stdout",
     "output_type": "stream",
     "text": [
      "elapsed time: 0.7056573 seconds (412378760 bytes allocated, 39.61% gc time)\n"
     ]
    }
   ],
   "source": [
    "# here is the vectorised version from above\n",
    "function CH_vectorised!(nruns, N)\n",
    "\n",
    "    # initialisations\n",
    "    h = 2*π/N; epsn = h * 3; C = 2/epsn; tau = epsn * h\n",
    "    k = [0:N/2, -N/2+1:-1]\n",
    "    Â = kron(k.^2, ones(1,N)) + kron(ones(N), k'.^2)\n",
    "    u = 2*(rand(N, N)-0.5)\n",
    "    \n",
    "    # ============= ACTUAL CODE THAT IS BEING TESTED ======================\n",
    "    for n = 1:nruns\n",
    "        # Matlab/Python-style\n",
    "        u[:,:] = real(ifft( \n",
    "                ( (1+C*tau*Â).*fft(u) - tau/epsn * (Â .* fft(u.^3-u))) \n",
    "                    ./ (1+(epsn*tau)*Â.^2+C*tau*Â) ))\n",
    "    end\n",
    "    # ======================================================================\n",
    "end\n",
    "\n",
    "CH_vectorised!(3, 2^8)\n",
    "@time CH_vectorised!(30, 2^8)"
   ]
  },
  {
   "cell_type": "markdown",
   "metadata": {},
   "source": [
    "A disproportionate amount of data is being allocated. 30% GC time is not so terrible, but in reality, almost everything could be done in-place. Unfortunately, at this stage we need to do a lot by hand to achieve this. The following variant moves all `fft` calls to `fft!` calls and replaces the vectorised operations by loops. If we put an `@time` in front of the `for` loop then we would find that no memory at all is allocated within the loop.\n",
    "\n",
    "RESULT: we roughly gain a factor 2 to 3 in speed. This is not necessary for quick testing, but useful when we implement something bigger.\n",
    "\n",
    "**Remark: **  We might be tempted to not allocate $\\hat{A}$ either. Indeed, this would require us to allocate $25\\%$ less memory, but also slightly slows us down, probably because the entries need to be recomputed, but maybe also because the single-loop would become a double-loop?"
   ]
  },
  {
   "cell_type": "code",
   "execution_count": 6,
   "metadata": {
    "collapsed": false
   },
   "outputs": [
    {
     "name": "stdout",
     "output_type": "stream",
     "text": [
      "Testing with N = 2^8\n",
      "elapsed time: 2.443473127 seconds (1367177360 bytes allocated, 42.58% gc time)\n",
      "elapsed time: 0.584224252 seconds (6910576 bytes allocated)\n",
      "=========================\n",
      "Testing with N = 2^9\n",
      "elapsed time: 2.962735259 seconds (1648696000 bytes allocated, 44.46% gc time)\n",
      "elapsed time: 0.818214813 seconds (21170240 bytes allocated, 5.76% gc time)\n"
     ]
    }
   ],
   "source": [
    "\n",
    "# an optimised implementation of CH_vectorised!\n",
    "function CH_memory!(nruns, N)\n",
    "    \n",
    "    # initialisations\n",
    "    h = 2*π/N; epsn = h * 3; C = 2/epsn; tau = epsn * h\n",
    "    k = [0:N/2, -N/2+1:-1]\n",
    "    Â = kron(k.^2, ones(1,N)) + kron(ones(N), k'.^2)\n",
    "    u = 2*(rand(N, N)-0.5)\n",
    "    \n",
    "    \n",
    "    # ============= ACTUAL CODE THAT IS BEING TESTED ======================\n",
    "    # allocate arrays and define constants\n",
    "    N = size(u, 1)\n",
    "    w = complex(u)\n",
    "    v = copy(w)\n",
    "    c1 = C*tau+tau/epsn\n",
    "    c2 = tau/epsn\n",
    "    c3 = epsn*tau\n",
    "    c4 = C*tau\n",
    "    \n",
    "    # we could also add an @inbound macro since we are sure\n",
    "    # that all loops are properly bounded, but this buys us\n",
    "    # nothing here\n",
    "    for n = 1:nruns\n",
    "        for i = 1:length(v); v[i] = u[i]*u[i]*u[i]; end\n",
    "        fft!(v)\n",
    "        fft!(w)\n",
    "        for i = 1:length(w)\n",
    "            w[i] = ((1+c1*Â[i])*w[i] - (c2*Â[i])*v[i]) / ((1+c3*Â[i]+c4)*Â[i])\n",
    "        end\n",
    "        ifft!(w)\n",
    "        for i = 1:length(u); u[i] = real(w[i]); end\n",
    "    end\n",
    "    # ======================================================================\n",
    "end\n",
    "\n",
    "\n",
    "# run two timing tests\n",
    "\n",
    "println(\"Testing with N = 2^8\")\n",
    "N = 2^8; nruns = 100\n",
    "CH_vectorised!(ceil(nruns/10), N)\n",
    "@time CH_vectorised!(nruns, N)\n",
    "CH_memory!(ceil(nruns/10), N)\n",
    "@time CH_memory!(nruns, N)\n",
    "println(\"=========================\")\n",
    "println(\"Testing with N = 2^9\")\n",
    "N = 2^9; nruns = 30\n",
    "CH_vectorised!(ceil(nruns/10), N)\n",
    "@time CH_vectorised!(nruns, N)\n",
    "CH_memory!(ceil(nruns/10), N)\n",
    "@time CH_memory!(nruns, N)\n",
    "\n"
   ]
  },
  {
   "cell_type": "markdown",
   "metadata": {},
   "source": [
    "**Final test:** the `Devectorize` package can actually do a fair bit of work for us. Unfortunately, it does not recognize the function `real`, so we need to devectorise it by hand, and it also needs to be told explicitly to do the operations in-place,by using the [:,:] notation. The result runs about 5-10% slower than the \"hand-optimised\" version, which is perfectly acceptable. Possibly this comes from the fact that we devectorize an operation on matrices rather than vectors?"
   ]
  },
  {
   "cell_type": "code",
   "execution_count": 7,
   "metadata": {
    "collapsed": false
   },
   "outputs": [
    {
     "name": "stdout",
     "output_type": "stream",
     "text": [
      "elapsed time: 0.835390443 seconds (22817132 bytes allocated, 4.58% gc time)\n"
     ]
    }
   ],
   "source": [
    "using Devectorize\n",
    "\n",
    "# testing the devectorise macro\n",
    "# using plan_fft to speed up the FFTs?\n",
    "function CH_devec!(nruns, N)\n",
    "    \n",
    "    # initialisations\n",
    "    h = 2*π/N; epsn = h * 3; C = 2/epsn; tau = epsn * h\n",
    "    k = [0:N/2, -N/2+1:-1]\n",
    "    Â = kron(k.^2, ones(1,N)) + kron(ones(N), k'.^2)\n",
    "    u = 2*(rand(N, N)-0.5)\n",
    "    \n",
    "    \n",
    "    # ============= ACTUAL CODE THAT IS BEING TESTED ======================\n",
    "    # allocate arrays and define constants\n",
    "    N = size(u, 1)\n",
    "    w = complex(u)\n",
    "    v = copy(w)\n",
    "    c1 = C*tau+tau/epsn\n",
    "    c2 = tau/epsn\n",
    "    c3 = epsn*tau\n",
    "    c4 = C*tau\n",
    "\n",
    "    for n = 1:nruns\n",
    "        @devec v[:,:] = u.*u.*u\n",
    "        fft!(v)\n",
    "        fft!(w)\n",
    "        @devec w[:,:] = ((1+c1.*Â).*w - (c2.*Â).*v) ./ (((1+c4)+c3.*Â).*Â)\n",
    "        ifft!(w)\n",
    "        for i = 1:length(u); u[i] = real(w[i]); end\n",
    "    end\n",
    "    # ======================================================================\n",
    "end\n",
    "\n",
    "N = 2^9; nruns = 30\n",
    "CH_devec!(ceil(nruns/10), N)\n",
    "@time CH_devec!(nruns, N)\n",
    "\n",
    "\n"
   ]
  },
  {
   "cell_type": "code",
   "execution_count": null,
   "metadata": {
    "collapsed": false
   },
   "outputs": [],
   "source": []
  }
 ],
 "metadata": {
  "kernelspec": {
   "display_name": "Julia 0.5.0-dev",
   "language": "julia",
   "name": "julia-0.5"
  },
  "language_info": {
   "file_extension": ".jl",
   "mimetype": "application/julia",
   "name": "julia",
   "version": "0.5.0"
  }
 },
 "nbformat": 4,
 "nbformat_minor": 0
}
